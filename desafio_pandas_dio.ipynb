{
  "nbformat": 4,
  "nbformat_minor": 0,
  "metadata": {
    "colab": {
      "provenance": []
    },
    "kernelspec": {
      "name": "python3",
      "display_name": "Python 3"
    },
    "language_info": {
      "name": "python"
    }
  },
  "cells": [
    {
      "cell_type": "markdown",
      "source": [
        "Importação das bibliotecas"
      ],
      "metadata": {
        "id": "LHUhuc8Hkhbf"
      }
    },
    {
      "cell_type": "code",
      "execution_count": null,
      "metadata": {
        "id": "dKGdURjdn3wq"
      },
      "outputs": [],
      "source": [
        "import pandas as pd\n",
        "import matplotlib as plt"
      ]
    },
    {
      "cell_type": "markdown",
      "source": [
        "Gerando arquivos .xlsx"
      ],
      "metadata": {
        "id": "jyaZMoBkknlw"
      }
    },
    {
      "cell_type": "code",
      "source": [
        "df_nba = pd.read_excel('/DIO/NBA.xlsx')\n",
        "df_nfl = pd.read_excel('/DIO/NFL.xlsx')\n",
        "df_nhl = pd.read_excel('/DIO/NHL.xlsx')\n",
        "df_mlb = pd.read_excel('/DIO/MLB.xlsx')\n",
        "df_mls = pd.read_excel('/DIO/MLS.xlsx')"
      ],
      "metadata": {
        "id": "MFkQ_0LWpiHZ"
      },
      "execution_count": null,
      "outputs": []
    },
    {
      "cell_type": "markdown",
      "source": [
        "Concatenar arquivos"
      ],
      "metadata": {
        "id": "HaxXMGBJj3xT"
      }
    },
    {
      "cell_type": "code",
      "source": [
        "df = pd.concat([df_nba, df_mlb, df_mls, df_nhl, df_nfl])"
      ],
      "metadata": {
        "id": "_IH_Dn0nqRgP"
      },
      "execution_count": null,
      "outputs": []
    },
    {
      "cell_type": "markdown",
      "source": [
        "Localizar ',' e substituir por '.'"
      ],
      "metadata": {
        "id": "f7oEpnM3jxY5"
      }
    },
    {
      "cell_type": "code",
      "source": [
        "df[\"Capacity \"] = df[\"Capacity \"].str.replace(',','.')"
      ],
      "metadata": {
        "id": "vg_EtoEPyO9V"
      },
      "execution_count": null,
      "outputs": []
    },
    {
      "cell_type": "markdown",
      "source": [
        "Alteração de 'str' para 'float'"
      ],
      "metadata": {
        "id": "PzfIRt2zjm-U"
      }
    },
    {
      "cell_type": "code",
      "source": [
        "df[\"Capacity \"] = df[\"Capacity \"].astype(float)"
      ],
      "metadata": {
        "id": "muvuiN9B0UPw"
      },
      "execution_count": null,
      "outputs": []
    },
    {
      "cell_type": "markdown",
      "source": [
        "Tipos de dados"
      ],
      "metadata": {
        "id": "cxP39-80jkmx"
      }
    },
    {
      "cell_type": "code",
      "source": [
        "df.dtypes"
      ],
      "metadata": {
        "colab": {
          "base_uri": "https://localhost:8080/"
        },
        "id": "kDEqYXRO0Z9I",
        "outputId": "a26c1f18-9afc-4450-da9b-4dcd8986b772"
      },
      "execution_count": null,
      "outputs": [
        {
          "output_type": "execute_result",
          "data": {
            "text/plain": [
              "Stadium       object\n",
              "Capacity     float64\n",
              "Location      object\n",
              "Team          object\n",
              "Opened         int64\n",
              "League        object\n",
              "dtype: object"
            ]
          },
          "metadata": {},
          "execution_count": 345
        }
      ]
    },
    {
      "cell_type": "markdown",
      "source": [
        "Quantidade de registros por liga"
      ],
      "metadata": {
        "id": "vcl1ki6wjgOu"
      }
    },
    {
      "cell_type": "code",
      "source": [
        "group_leagues = df.groupby(['League'])['League'].count()\n",
        "group_leagues.head()"
      ],
      "metadata": {
        "colab": {
          "base_uri": "https://localhost:8080/"
        },
        "id": "0V3iNH2zqZjX",
        "outputId": "e60dbca8-ca9b-4c0a-cf26-d0ee2963a472"
      },
      "execution_count": null,
      "outputs": [
        {
          "output_type": "execute_result",
          "data": {
            "text/plain": [
              "League\n",
              "MLB    30\n",
              "MLS    28\n",
              "NBA    30\n",
              "NFL    32\n",
              "NHL    32\n",
              "Name: League, dtype: int64"
            ]
          },
          "metadata": {},
          "execution_count": 346
        }
      ]
    },
    {
      "cell_type": "markdown",
      "source": [
        "Quantidade de registros"
      ],
      "metadata": {
        "id": "jGpKcQTIjcn4"
      }
    },
    {
      "cell_type": "code",
      "source": [
        "group_leagues = df.groupby(['League'])['League'].count().sum()\n",
        "print(group_leagues)"
      ],
      "metadata": {
        "colab": {
          "base_uri": "https://localhost:8080/"
        },
        "id": "ATpjI0cerobc",
        "outputId": "bd115280-07ac-4eae-85c5-710a3145cb41"
      },
      "execution_count": null,
      "outputs": [
        {
          "output_type": "stream",
          "name": "stdout",
          "text": [
            "152\n"
          ]
        }
      ]
    },
    {
      "cell_type": "markdown",
      "source": [
        "Divisão por delimitador ','"
      ],
      "metadata": {
        "id": "GpqxhpnZjUP3"
      }
    },
    {
      "cell_type": "code",
      "source": [
        "div = df['Location '].str.split(',')\n",
        "div.head()"
      ],
      "metadata": {
        "colab": {
          "base_uri": "https://localhost:8080/"
        },
        "id": "fttgrR4Hr1bg",
        "outputId": "7a3ba0cb-56a1-487c-e636-ce75b3968f7a"
      },
      "execution_count": null,
      "outputs": [
        {
          "output_type": "execute_result",
          "data": {
            "text/plain": [
              "0              [Dallas,  Texas]\n",
              "1           [Orlando,  Florida]\n",
              "2         [San Antonio,  Texas]\n",
              "3           [Denver,  Colorado]\n",
              "4    [New York City,  New York]\n",
              "Name: Location , dtype: object"
            ]
          },
          "metadata": {},
          "execution_count": 348
        }
      ]
    },
    {
      "cell_type": "markdown",
      "source": [
        "Criação das novas colunas 'City' e 'State'"
      ],
      "metadata": {
        "id": "1N6qEYJaix4h"
      }
    },
    {
      "cell_type": "code",
      "source": [
        "City = div.str.get(0)\n",
        "State = div.str.get(1)\n",
        "df['City'] = City\n",
        "df['State'] = State\n",
        "df.head(100)"
      ],
      "metadata": {
        "colab": {
          "base_uri": "https://localhost:8080/",
          "height": 424
        },
        "id": "972Gridct1Q9",
        "outputId": "cd0d27dd-6a2c-49e0-86a5-acd1e842cad6"
      },
      "execution_count": null,
      "outputs": [
        {
          "output_type": "execute_result",
          "data": {
            "text/plain": [
              "                     Stadium  Capacity                 Location   \\\n",
              "0   American Airlines Center     19.200            Dallas, Texas   \n",
              "1               Amway Center     18.846         Orlando, Florida   \n",
              "2                AT&T Center     18.418       San Antonio, Texas   \n",
              "3                 Ball Arena     19.520         Denver, Colorado   \n",
              "4            Barclays Center     17.732  New York City, New York   \n",
              "..                       ...        ...                      ...   \n",
              "7          Capital One Arena     18.506         Washington, D.C.   \n",
              "8       Climate Pledge Arena     17.151      Seattle, Washington   \n",
              "9           Crypto.com Arena     18.230  Los Angeles, California   \n",
              "10         Enterprise Center     18.096      St. Louis, Missouri   \n",
              "11            FLA Live Arena     19.250           Miami, Florida   \n",
              "\n",
              "                   Team  Opened  League           City        State  \n",
              "0      Dallas Mavericks     2001    NBA         Dallas        Texas  \n",
              "1         Orlando Magic     2010    NBA        Orlando      Florida  \n",
              "2     San Antonio Spurs     2002    NBA    San Antonio        Texas  \n",
              "3        Denver Nuggets     1999    NBA         Denver     Colorado  \n",
              "4         Brooklyn Nets     2012    NBA  New York City     New York  \n",
              "..                  ...      ...    ...            ...          ...  \n",
              "7   Washington Capitals     1997    NHL     Washington         D.C.  \n",
              "8        Seattle Kraken     1962    NHL        Seattle   Washington  \n",
              "9     Los Angeles Kings     1999    NHL    Los Angeles   California  \n",
              "10      St. Louis Blues     1994    NHL      St. Louis     Missouri  \n",
              "11     Florida Panthers     1998    NHL          Miami      Florida  \n",
              "\n",
              "[100 rows x 8 columns]"
            ],
            "text/html": [
              "\n",
              "  <div id=\"df-c194ea1a-b407-42dd-8b36-3280115cb761\">\n",
              "    <div class=\"colab-df-container\">\n",
              "      <div>\n",
              "<style scoped>\n",
              "    .dataframe tbody tr th:only-of-type {\n",
              "        vertical-align: middle;\n",
              "    }\n",
              "\n",
              "    .dataframe tbody tr th {\n",
              "        vertical-align: top;\n",
              "    }\n",
              "\n",
              "    .dataframe thead th {\n",
              "        text-align: right;\n",
              "    }\n",
              "</style>\n",
              "<table border=\"1\" class=\"dataframe\">\n",
              "  <thead>\n",
              "    <tr style=\"text-align: right;\">\n",
              "      <th></th>\n",
              "      <th>Stadium</th>\n",
              "      <th>Capacity</th>\n",
              "      <th>Location</th>\n",
              "      <th>Team</th>\n",
              "      <th>Opened</th>\n",
              "      <th>League</th>\n",
              "      <th>City</th>\n",
              "      <th>State</th>\n",
              "    </tr>\n",
              "  </thead>\n",
              "  <tbody>\n",
              "    <tr>\n",
              "      <th>0</th>\n",
              "      <td>American Airlines Center</td>\n",
              "      <td>19.200</td>\n",
              "      <td>Dallas, Texas</td>\n",
              "      <td>Dallas Mavericks</td>\n",
              "      <td>2001</td>\n",
              "      <td>NBA</td>\n",
              "      <td>Dallas</td>\n",
              "      <td>Texas</td>\n",
              "    </tr>\n",
              "    <tr>\n",
              "      <th>1</th>\n",
              "      <td>Amway Center</td>\n",
              "      <td>18.846</td>\n",
              "      <td>Orlando, Florida</td>\n",
              "      <td>Orlando Magic</td>\n",
              "      <td>2010</td>\n",
              "      <td>NBA</td>\n",
              "      <td>Orlando</td>\n",
              "      <td>Florida</td>\n",
              "    </tr>\n",
              "    <tr>\n",
              "      <th>2</th>\n",
              "      <td>AT&amp;T Center</td>\n",
              "      <td>18.418</td>\n",
              "      <td>San Antonio, Texas</td>\n",
              "      <td>San Antonio Spurs</td>\n",
              "      <td>2002</td>\n",
              "      <td>NBA</td>\n",
              "      <td>San Antonio</td>\n",
              "      <td>Texas</td>\n",
              "    </tr>\n",
              "    <tr>\n",
              "      <th>3</th>\n",
              "      <td>Ball Arena</td>\n",
              "      <td>19.520</td>\n",
              "      <td>Denver, Colorado</td>\n",
              "      <td>Denver Nuggets</td>\n",
              "      <td>1999</td>\n",
              "      <td>NBA</td>\n",
              "      <td>Denver</td>\n",
              "      <td>Colorado</td>\n",
              "    </tr>\n",
              "    <tr>\n",
              "      <th>4</th>\n",
              "      <td>Barclays Center</td>\n",
              "      <td>17.732</td>\n",
              "      <td>New York City, New York</td>\n",
              "      <td>Brooklyn Nets</td>\n",
              "      <td>2012</td>\n",
              "      <td>NBA</td>\n",
              "      <td>New York City</td>\n",
              "      <td>New York</td>\n",
              "    </tr>\n",
              "    <tr>\n",
              "      <th>...</th>\n",
              "      <td>...</td>\n",
              "      <td>...</td>\n",
              "      <td>...</td>\n",
              "      <td>...</td>\n",
              "      <td>...</td>\n",
              "      <td>...</td>\n",
              "      <td>...</td>\n",
              "      <td>...</td>\n",
              "    </tr>\n",
              "    <tr>\n",
              "      <th>7</th>\n",
              "      <td>Capital One Arena</td>\n",
              "      <td>18.506</td>\n",
              "      <td>Washington, D.C.</td>\n",
              "      <td>Washington Capitals</td>\n",
              "      <td>1997</td>\n",
              "      <td>NHL</td>\n",
              "      <td>Washington</td>\n",
              "      <td>D.C.</td>\n",
              "    </tr>\n",
              "    <tr>\n",
              "      <th>8</th>\n",
              "      <td>Climate Pledge Arena</td>\n",
              "      <td>17.151</td>\n",
              "      <td>Seattle, Washington</td>\n",
              "      <td>Seattle Kraken</td>\n",
              "      <td>1962</td>\n",
              "      <td>NHL</td>\n",
              "      <td>Seattle</td>\n",
              "      <td>Washington</td>\n",
              "    </tr>\n",
              "    <tr>\n",
              "      <th>9</th>\n",
              "      <td>Crypto.com Arena</td>\n",
              "      <td>18.230</td>\n",
              "      <td>Los Angeles, California</td>\n",
              "      <td>Los Angeles Kings</td>\n",
              "      <td>1999</td>\n",
              "      <td>NHL</td>\n",
              "      <td>Los Angeles</td>\n",
              "      <td>California</td>\n",
              "    </tr>\n",
              "    <tr>\n",
              "      <th>10</th>\n",
              "      <td>Enterprise Center</td>\n",
              "      <td>18.096</td>\n",
              "      <td>St. Louis, Missouri</td>\n",
              "      <td>St. Louis Blues</td>\n",
              "      <td>1994</td>\n",
              "      <td>NHL</td>\n",
              "      <td>St. Louis</td>\n",
              "      <td>Missouri</td>\n",
              "    </tr>\n",
              "    <tr>\n",
              "      <th>11</th>\n",
              "      <td>FLA Live Arena</td>\n",
              "      <td>19.250</td>\n",
              "      <td>Miami, Florida</td>\n",
              "      <td>Florida Panthers</td>\n",
              "      <td>1998</td>\n",
              "      <td>NHL</td>\n",
              "      <td>Miami</td>\n",
              "      <td>Florida</td>\n",
              "    </tr>\n",
              "  </tbody>\n",
              "</table>\n",
              "<p>100 rows × 8 columns</p>\n",
              "</div>\n",
              "      <button class=\"colab-df-convert\" onclick=\"convertToInteractive('df-c194ea1a-b407-42dd-8b36-3280115cb761')\"\n",
              "              title=\"Convert this dataframe to an interactive table.\"\n",
              "              style=\"display:none;\">\n",
              "        \n",
              "  <svg xmlns=\"http://www.w3.org/2000/svg\" height=\"24px\"viewBox=\"0 0 24 24\"\n",
              "       width=\"24px\">\n",
              "    <path d=\"M0 0h24v24H0V0z\" fill=\"none\"/>\n",
              "    <path d=\"M18.56 5.44l.94 2.06.94-2.06 2.06-.94-2.06-.94-.94-2.06-.94 2.06-2.06.94zm-11 1L8.5 8.5l.94-2.06 2.06-.94-2.06-.94L8.5 2.5l-.94 2.06-2.06.94zm10 10l.94 2.06.94-2.06 2.06-.94-2.06-.94-.94-2.06-.94 2.06-2.06.94z\"/><path d=\"M17.41 7.96l-1.37-1.37c-.4-.4-.92-.59-1.43-.59-.52 0-1.04.2-1.43.59L10.3 9.45l-7.72 7.72c-.78.78-.78 2.05 0 2.83L4 21.41c.39.39.9.59 1.41.59.51 0 1.02-.2 1.41-.59l7.78-7.78 2.81-2.81c.8-.78.8-2.07 0-2.86zM5.41 20L4 18.59l7.72-7.72 1.47 1.35L5.41 20z\"/>\n",
              "  </svg>\n",
              "      </button>\n",
              "      \n",
              "  <style>\n",
              "    .colab-df-container {\n",
              "      display:flex;\n",
              "      flex-wrap:wrap;\n",
              "      gap: 12px;\n",
              "    }\n",
              "\n",
              "    .colab-df-convert {\n",
              "      background-color: #E8F0FE;\n",
              "      border: none;\n",
              "      border-radius: 50%;\n",
              "      cursor: pointer;\n",
              "      display: none;\n",
              "      fill: #1967D2;\n",
              "      height: 32px;\n",
              "      padding: 0 0 0 0;\n",
              "      width: 32px;\n",
              "    }\n",
              "\n",
              "    .colab-df-convert:hover {\n",
              "      background-color: #E2EBFA;\n",
              "      box-shadow: 0px 1px 2px rgba(60, 64, 67, 0.3), 0px 1px 3px 1px rgba(60, 64, 67, 0.15);\n",
              "      fill: #174EA6;\n",
              "    }\n",
              "\n",
              "    [theme=dark] .colab-df-convert {\n",
              "      background-color: #3B4455;\n",
              "      fill: #D2E3FC;\n",
              "    }\n",
              "\n",
              "    [theme=dark] .colab-df-convert:hover {\n",
              "      background-color: #434B5C;\n",
              "      box-shadow: 0px 1px 3px 1px rgba(0, 0, 0, 0.15);\n",
              "      filter: drop-shadow(0px 1px 2px rgba(0, 0, 0, 0.3));\n",
              "      fill: #FFFFFF;\n",
              "    }\n",
              "  </style>\n",
              "\n",
              "      <script>\n",
              "        const buttonEl =\n",
              "          document.querySelector('#df-c194ea1a-b407-42dd-8b36-3280115cb761 button.colab-df-convert');\n",
              "        buttonEl.style.display =\n",
              "          google.colab.kernel.accessAllowed ? 'block' : 'none';\n",
              "\n",
              "        async function convertToInteractive(key) {\n",
              "          const element = document.querySelector('#df-c194ea1a-b407-42dd-8b36-3280115cb761');\n",
              "          const dataTable =\n",
              "            await google.colab.kernel.invokeFunction('convertToInteractive',\n",
              "                                                     [key], {});\n",
              "          if (!dataTable) return;\n",
              "\n",
              "          const docLinkHtml = 'Like what you see? Visit the ' +\n",
              "            '<a target=\"_blank\" href=https://colab.research.google.com/notebooks/data_table.ipynb>data table notebook</a>'\n",
              "            + ' to learn more about interactive tables.';\n",
              "          element.innerHTML = '';\n",
              "          dataTable['output_type'] = 'display_data';\n",
              "          await google.colab.output.renderOutput(dataTable, element);\n",
              "          const docLink = document.createElement('div');\n",
              "          docLink.innerHTML = docLinkHtml;\n",
              "          element.appendChild(docLink);\n",
              "        }\n",
              "      </script>\n",
              "    </div>\n",
              "  </div>\n",
              "  "
            ]
          },
          "metadata": {},
          "execution_count": 349
        }
      ]
    },
    {
      "cell_type": "markdown",
      "source": [
        "Remoção da coluna 'Location '"
      ],
      "metadata": {
        "id": "Evys407Uiggg"
      }
    },
    {
      "cell_type": "code",
      "source": [
        "df.drop([\"Location \"], axis=1, inplace=True)\n",
        "df.head(100)"
      ],
      "metadata": {
        "colab": {
          "base_uri": "https://localhost:8080/",
          "height": 424
        },
        "id": "EKzq3mC9vjfm",
        "outputId": "9ed27622-4e32-4554-e6a3-0535ab823cd6"
      },
      "execution_count": null,
      "outputs": [
        {
          "output_type": "execute_result",
          "data": {
            "text/plain": [
              "                     Stadium  Capacity                  Team  Opened  League  \\\n",
              "0   American Airlines Center     19.200     Dallas Mavericks     2001    NBA   \n",
              "1               Amway Center     18.846        Orlando Magic     2010    NBA   \n",
              "2                AT&T Center     18.418    San Antonio Spurs     2002    NBA   \n",
              "3                 Ball Arena     19.520       Denver Nuggets     1999    NBA   \n",
              "4            Barclays Center     17.732        Brooklyn Nets     2012    NBA   \n",
              "..                       ...        ...                  ...      ...    ...   \n",
              "7          Capital One Arena     18.506  Washington Capitals     1997    NHL   \n",
              "8       Climate Pledge Arena     17.151       Seattle Kraken     1962    NHL   \n",
              "9           Crypto.com Arena     18.230    Los Angeles Kings     1999    NHL   \n",
              "10         Enterprise Center     18.096      St. Louis Blues     1994    NHL   \n",
              "11            FLA Live Arena     19.250     Florida Panthers     1998    NHL   \n",
              "\n",
              "             City        State  \n",
              "0          Dallas        Texas  \n",
              "1         Orlando      Florida  \n",
              "2     San Antonio        Texas  \n",
              "3          Denver     Colorado  \n",
              "4   New York City     New York  \n",
              "..            ...          ...  \n",
              "7      Washington         D.C.  \n",
              "8         Seattle   Washington  \n",
              "9     Los Angeles   California  \n",
              "10      St. Louis     Missouri  \n",
              "11          Miami      Florida  \n",
              "\n",
              "[100 rows x 7 columns]"
            ],
            "text/html": [
              "\n",
              "  <div id=\"df-f01652a2-6819-4e6d-b1a5-c6ff90a2a590\">\n",
              "    <div class=\"colab-df-container\">\n",
              "      <div>\n",
              "<style scoped>\n",
              "    .dataframe tbody tr th:only-of-type {\n",
              "        vertical-align: middle;\n",
              "    }\n",
              "\n",
              "    .dataframe tbody tr th {\n",
              "        vertical-align: top;\n",
              "    }\n",
              "\n",
              "    .dataframe thead th {\n",
              "        text-align: right;\n",
              "    }\n",
              "</style>\n",
              "<table border=\"1\" class=\"dataframe\">\n",
              "  <thead>\n",
              "    <tr style=\"text-align: right;\">\n",
              "      <th></th>\n",
              "      <th>Stadium</th>\n",
              "      <th>Capacity</th>\n",
              "      <th>Team</th>\n",
              "      <th>Opened</th>\n",
              "      <th>League</th>\n",
              "      <th>City</th>\n",
              "      <th>State</th>\n",
              "    </tr>\n",
              "  </thead>\n",
              "  <tbody>\n",
              "    <tr>\n",
              "      <th>0</th>\n",
              "      <td>American Airlines Center</td>\n",
              "      <td>19.200</td>\n",
              "      <td>Dallas Mavericks</td>\n",
              "      <td>2001</td>\n",
              "      <td>NBA</td>\n",
              "      <td>Dallas</td>\n",
              "      <td>Texas</td>\n",
              "    </tr>\n",
              "    <tr>\n",
              "      <th>1</th>\n",
              "      <td>Amway Center</td>\n",
              "      <td>18.846</td>\n",
              "      <td>Orlando Magic</td>\n",
              "      <td>2010</td>\n",
              "      <td>NBA</td>\n",
              "      <td>Orlando</td>\n",
              "      <td>Florida</td>\n",
              "    </tr>\n",
              "    <tr>\n",
              "      <th>2</th>\n",
              "      <td>AT&amp;T Center</td>\n",
              "      <td>18.418</td>\n",
              "      <td>San Antonio Spurs</td>\n",
              "      <td>2002</td>\n",
              "      <td>NBA</td>\n",
              "      <td>San Antonio</td>\n",
              "      <td>Texas</td>\n",
              "    </tr>\n",
              "    <tr>\n",
              "      <th>3</th>\n",
              "      <td>Ball Arena</td>\n",
              "      <td>19.520</td>\n",
              "      <td>Denver Nuggets</td>\n",
              "      <td>1999</td>\n",
              "      <td>NBA</td>\n",
              "      <td>Denver</td>\n",
              "      <td>Colorado</td>\n",
              "    </tr>\n",
              "    <tr>\n",
              "      <th>4</th>\n",
              "      <td>Barclays Center</td>\n",
              "      <td>17.732</td>\n",
              "      <td>Brooklyn Nets</td>\n",
              "      <td>2012</td>\n",
              "      <td>NBA</td>\n",
              "      <td>New York City</td>\n",
              "      <td>New York</td>\n",
              "    </tr>\n",
              "    <tr>\n",
              "      <th>...</th>\n",
              "      <td>...</td>\n",
              "      <td>...</td>\n",
              "      <td>...</td>\n",
              "      <td>...</td>\n",
              "      <td>...</td>\n",
              "      <td>...</td>\n",
              "      <td>...</td>\n",
              "    </tr>\n",
              "    <tr>\n",
              "      <th>7</th>\n",
              "      <td>Capital One Arena</td>\n",
              "      <td>18.506</td>\n",
              "      <td>Washington Capitals</td>\n",
              "      <td>1997</td>\n",
              "      <td>NHL</td>\n",
              "      <td>Washington</td>\n",
              "      <td>D.C.</td>\n",
              "    </tr>\n",
              "    <tr>\n",
              "      <th>8</th>\n",
              "      <td>Climate Pledge Arena</td>\n",
              "      <td>17.151</td>\n",
              "      <td>Seattle Kraken</td>\n",
              "      <td>1962</td>\n",
              "      <td>NHL</td>\n",
              "      <td>Seattle</td>\n",
              "      <td>Washington</td>\n",
              "    </tr>\n",
              "    <tr>\n",
              "      <th>9</th>\n",
              "      <td>Crypto.com Arena</td>\n",
              "      <td>18.230</td>\n",
              "      <td>Los Angeles Kings</td>\n",
              "      <td>1999</td>\n",
              "      <td>NHL</td>\n",
              "      <td>Los Angeles</td>\n",
              "      <td>California</td>\n",
              "    </tr>\n",
              "    <tr>\n",
              "      <th>10</th>\n",
              "      <td>Enterprise Center</td>\n",
              "      <td>18.096</td>\n",
              "      <td>St. Louis Blues</td>\n",
              "      <td>1994</td>\n",
              "      <td>NHL</td>\n",
              "      <td>St. Louis</td>\n",
              "      <td>Missouri</td>\n",
              "    </tr>\n",
              "    <tr>\n",
              "      <th>11</th>\n",
              "      <td>FLA Live Arena</td>\n",
              "      <td>19.250</td>\n",
              "      <td>Florida Panthers</td>\n",
              "      <td>1998</td>\n",
              "      <td>NHL</td>\n",
              "      <td>Miami</td>\n",
              "      <td>Florida</td>\n",
              "    </tr>\n",
              "  </tbody>\n",
              "</table>\n",
              "<p>100 rows × 7 columns</p>\n",
              "</div>\n",
              "      <button class=\"colab-df-convert\" onclick=\"convertToInteractive('df-f01652a2-6819-4e6d-b1a5-c6ff90a2a590')\"\n",
              "              title=\"Convert this dataframe to an interactive table.\"\n",
              "              style=\"display:none;\">\n",
              "        \n",
              "  <svg xmlns=\"http://www.w3.org/2000/svg\" height=\"24px\"viewBox=\"0 0 24 24\"\n",
              "       width=\"24px\">\n",
              "    <path d=\"M0 0h24v24H0V0z\" fill=\"none\"/>\n",
              "    <path d=\"M18.56 5.44l.94 2.06.94-2.06 2.06-.94-2.06-.94-.94-2.06-.94 2.06-2.06.94zm-11 1L8.5 8.5l.94-2.06 2.06-.94-2.06-.94L8.5 2.5l-.94 2.06-2.06.94zm10 10l.94 2.06.94-2.06 2.06-.94-2.06-.94-.94-2.06-.94 2.06-2.06.94z\"/><path d=\"M17.41 7.96l-1.37-1.37c-.4-.4-.92-.59-1.43-.59-.52 0-1.04.2-1.43.59L10.3 9.45l-7.72 7.72c-.78.78-.78 2.05 0 2.83L4 21.41c.39.39.9.59 1.41.59.51 0 1.02-.2 1.41-.59l7.78-7.78 2.81-2.81c.8-.78.8-2.07 0-2.86zM5.41 20L4 18.59l7.72-7.72 1.47 1.35L5.41 20z\"/>\n",
              "  </svg>\n",
              "      </button>\n",
              "      \n",
              "  <style>\n",
              "    .colab-df-container {\n",
              "      display:flex;\n",
              "      flex-wrap:wrap;\n",
              "      gap: 12px;\n",
              "    }\n",
              "\n",
              "    .colab-df-convert {\n",
              "      background-color: #E8F0FE;\n",
              "      border: none;\n",
              "      border-radius: 50%;\n",
              "      cursor: pointer;\n",
              "      display: none;\n",
              "      fill: #1967D2;\n",
              "      height: 32px;\n",
              "      padding: 0 0 0 0;\n",
              "      width: 32px;\n",
              "    }\n",
              "\n",
              "    .colab-df-convert:hover {\n",
              "      background-color: #E2EBFA;\n",
              "      box-shadow: 0px 1px 2px rgba(60, 64, 67, 0.3), 0px 1px 3px 1px rgba(60, 64, 67, 0.15);\n",
              "      fill: #174EA6;\n",
              "    }\n",
              "\n",
              "    [theme=dark] .colab-df-convert {\n",
              "      background-color: #3B4455;\n",
              "      fill: #D2E3FC;\n",
              "    }\n",
              "\n",
              "    [theme=dark] .colab-df-convert:hover {\n",
              "      background-color: #434B5C;\n",
              "      box-shadow: 0px 1px 3px 1px rgba(0, 0, 0, 0.15);\n",
              "      filter: drop-shadow(0px 1px 2px rgba(0, 0, 0, 0.3));\n",
              "      fill: #FFFFFF;\n",
              "    }\n",
              "  </style>\n",
              "\n",
              "      <script>\n",
              "        const buttonEl =\n",
              "          document.querySelector('#df-f01652a2-6819-4e6d-b1a5-c6ff90a2a590 button.colab-df-convert');\n",
              "        buttonEl.style.display =\n",
              "          google.colab.kernel.accessAllowed ? 'block' : 'none';\n",
              "\n",
              "        async function convertToInteractive(key) {\n",
              "          const element = document.querySelector('#df-f01652a2-6819-4e6d-b1a5-c6ff90a2a590');\n",
              "          const dataTable =\n",
              "            await google.colab.kernel.invokeFunction('convertToInteractive',\n",
              "                                                     [key], {});\n",
              "          if (!dataTable) return;\n",
              "\n",
              "          const docLinkHtml = 'Like what you see? Visit the ' +\n",
              "            '<a target=\"_blank\" href=https://colab.research.google.com/notebooks/data_table.ipynb>data table notebook</a>'\n",
              "            + ' to learn more about interactive tables.';\n",
              "          element.innerHTML = '';\n",
              "          dataTable['output_type'] = 'display_data';\n",
              "          await google.colab.output.renderOutput(dataTable, element);\n",
              "          const docLink = document.createElement('div');\n",
              "          docLink.innerHTML = docLinkHtml;\n",
              "          element.appendChild(docLink);\n",
              "        }\n",
              "      </script>\n",
              "    </div>\n",
              "  </div>\n",
              "  "
            ]
          },
          "metadata": {},
          "execution_count": 350
        }
      ]
    },
    {
      "cell_type": "markdown",
      "source": [
        "Tratamento de dados faltantes"
      ],
      "metadata": {
        "id": "KyGlGwQdiaVy"
      }
    },
    {
      "cell_type": "code",
      "source": [
        "df['Capacity '].fillna(0,inplace=True)\n",
        "df.dropna(inplace=True)\n",
        "df.isnull().sum()"
      ],
      "metadata": {
        "colab": {
          "base_uri": "https://localhost:8080/"
        },
        "id": "T5uiidJA01Xt",
        "outputId": "726e763c-24fa-413d-aa31-080e715919d8"
      },
      "execution_count": null,
      "outputs": [
        {
          "output_type": "execute_result",
          "data": {
            "text/plain": [
              "Stadium      0\n",
              "Capacity     0\n",
              "Team         0\n",
              "Opened       0\n",
              "League       0\n",
              "City         0\n",
              "State        0\n",
              "dtype: int64"
            ]
          },
          "metadata": {},
          "execution_count": 351
        }
      ]
    },
    {
      "cell_type": "code",
      "source": [
        "df.head(100)"
      ],
      "metadata": {
        "colab": {
          "base_uri": "https://localhost:8080/",
          "height": 424
        },
        "id": "rShcVceY2Vs6",
        "outputId": "cc10da02-2a0e-4aef-f67f-7f26020cba83"
      },
      "execution_count": null,
      "outputs": [
        {
          "output_type": "execute_result",
          "data": {
            "text/plain": [
              "                     Stadium  Capacity                    Team  Opened   \\\n",
              "0   American Airlines Center     19.200       Dallas Mavericks     2001   \n",
              "1               Amway Center     18.846          Orlando Magic     2010   \n",
              "2                AT&T Center     18.418      San Antonio Spurs     2002   \n",
              "3                 Ball Arena     19.520         Denver Nuggets     1999   \n",
              "4            Barclays Center     17.732          Brooklyn Nets     2012   \n",
              "..                       ...        ...                    ...      ...   \n",
              "16     Madison Square Garden     18.006       New York Rangers     1968   \n",
              "17          Nationwide Arena     18.144  Columbus Blue Jackets     2000   \n",
              "18                 PNC Arena     18.680    Carolina Hurricanes     1999   \n",
              "19          PPG Paints Arena     18.387    Pittsburgh Penguins     2010   \n",
              "20         Prudential Center     16.514      New Jersey Devils     2007   \n",
              "\n",
              "   League           City            State  \n",
              "0     NBA         Dallas            Texas  \n",
              "1     NBA        Orlando          Florida  \n",
              "2     NBA    San Antonio            Texas  \n",
              "3     NBA         Denver         Colorado  \n",
              "4     NBA  New York City         New York  \n",
              "..    ...            ...              ...  \n",
              "16    NHL  New York City         New York  \n",
              "17    NHL       Columbus             Ohio  \n",
              "18    NHL        Raleigh   North Carolina  \n",
              "19    NHL     Pittsburgh     Pennsylvania  \n",
              "20    NHL         Newark       New Jersey  \n",
              "\n",
              "[100 rows x 7 columns]"
            ],
            "text/html": [
              "\n",
              "  <div id=\"df-d7fb6798-672e-4611-94ab-d6f58f8ac909\">\n",
              "    <div class=\"colab-df-container\">\n",
              "      <div>\n",
              "<style scoped>\n",
              "    .dataframe tbody tr th:only-of-type {\n",
              "        vertical-align: middle;\n",
              "    }\n",
              "\n",
              "    .dataframe tbody tr th {\n",
              "        vertical-align: top;\n",
              "    }\n",
              "\n",
              "    .dataframe thead th {\n",
              "        text-align: right;\n",
              "    }\n",
              "</style>\n",
              "<table border=\"1\" class=\"dataframe\">\n",
              "  <thead>\n",
              "    <tr style=\"text-align: right;\">\n",
              "      <th></th>\n",
              "      <th>Stadium</th>\n",
              "      <th>Capacity</th>\n",
              "      <th>Team</th>\n",
              "      <th>Opened</th>\n",
              "      <th>League</th>\n",
              "      <th>City</th>\n",
              "      <th>State</th>\n",
              "    </tr>\n",
              "  </thead>\n",
              "  <tbody>\n",
              "    <tr>\n",
              "      <th>0</th>\n",
              "      <td>American Airlines Center</td>\n",
              "      <td>19.200</td>\n",
              "      <td>Dallas Mavericks</td>\n",
              "      <td>2001</td>\n",
              "      <td>NBA</td>\n",
              "      <td>Dallas</td>\n",
              "      <td>Texas</td>\n",
              "    </tr>\n",
              "    <tr>\n",
              "      <th>1</th>\n",
              "      <td>Amway Center</td>\n",
              "      <td>18.846</td>\n",
              "      <td>Orlando Magic</td>\n",
              "      <td>2010</td>\n",
              "      <td>NBA</td>\n",
              "      <td>Orlando</td>\n",
              "      <td>Florida</td>\n",
              "    </tr>\n",
              "    <tr>\n",
              "      <th>2</th>\n",
              "      <td>AT&amp;T Center</td>\n",
              "      <td>18.418</td>\n",
              "      <td>San Antonio Spurs</td>\n",
              "      <td>2002</td>\n",
              "      <td>NBA</td>\n",
              "      <td>San Antonio</td>\n",
              "      <td>Texas</td>\n",
              "    </tr>\n",
              "    <tr>\n",
              "      <th>3</th>\n",
              "      <td>Ball Arena</td>\n",
              "      <td>19.520</td>\n",
              "      <td>Denver Nuggets</td>\n",
              "      <td>1999</td>\n",
              "      <td>NBA</td>\n",
              "      <td>Denver</td>\n",
              "      <td>Colorado</td>\n",
              "    </tr>\n",
              "    <tr>\n",
              "      <th>4</th>\n",
              "      <td>Barclays Center</td>\n",
              "      <td>17.732</td>\n",
              "      <td>Brooklyn Nets</td>\n",
              "      <td>2012</td>\n",
              "      <td>NBA</td>\n",
              "      <td>New York City</td>\n",
              "      <td>New York</td>\n",
              "    </tr>\n",
              "    <tr>\n",
              "      <th>...</th>\n",
              "      <td>...</td>\n",
              "      <td>...</td>\n",
              "      <td>...</td>\n",
              "      <td>...</td>\n",
              "      <td>...</td>\n",
              "      <td>...</td>\n",
              "      <td>...</td>\n",
              "    </tr>\n",
              "    <tr>\n",
              "      <th>16</th>\n",
              "      <td>Madison Square Garden</td>\n",
              "      <td>18.006</td>\n",
              "      <td>New York Rangers</td>\n",
              "      <td>1968</td>\n",
              "      <td>NHL</td>\n",
              "      <td>New York City</td>\n",
              "      <td>New York</td>\n",
              "    </tr>\n",
              "    <tr>\n",
              "      <th>17</th>\n",
              "      <td>Nationwide Arena</td>\n",
              "      <td>18.144</td>\n",
              "      <td>Columbus Blue Jackets</td>\n",
              "      <td>2000</td>\n",
              "      <td>NHL</td>\n",
              "      <td>Columbus</td>\n",
              "      <td>Ohio</td>\n",
              "    </tr>\n",
              "    <tr>\n",
              "      <th>18</th>\n",
              "      <td>PNC Arena</td>\n",
              "      <td>18.680</td>\n",
              "      <td>Carolina Hurricanes</td>\n",
              "      <td>1999</td>\n",
              "      <td>NHL</td>\n",
              "      <td>Raleigh</td>\n",
              "      <td>North Carolina</td>\n",
              "    </tr>\n",
              "    <tr>\n",
              "      <th>19</th>\n",
              "      <td>PPG Paints Arena</td>\n",
              "      <td>18.387</td>\n",
              "      <td>Pittsburgh Penguins</td>\n",
              "      <td>2010</td>\n",
              "      <td>NHL</td>\n",
              "      <td>Pittsburgh</td>\n",
              "      <td>Pennsylvania</td>\n",
              "    </tr>\n",
              "    <tr>\n",
              "      <th>20</th>\n",
              "      <td>Prudential Center</td>\n",
              "      <td>16.514</td>\n",
              "      <td>New Jersey Devils</td>\n",
              "      <td>2007</td>\n",
              "      <td>NHL</td>\n",
              "      <td>Newark</td>\n",
              "      <td>New Jersey</td>\n",
              "    </tr>\n",
              "  </tbody>\n",
              "</table>\n",
              "<p>100 rows × 7 columns</p>\n",
              "</div>\n",
              "      <button class=\"colab-df-convert\" onclick=\"convertToInteractive('df-d7fb6798-672e-4611-94ab-d6f58f8ac909')\"\n",
              "              title=\"Convert this dataframe to an interactive table.\"\n",
              "              style=\"display:none;\">\n",
              "        \n",
              "  <svg xmlns=\"http://www.w3.org/2000/svg\" height=\"24px\"viewBox=\"0 0 24 24\"\n",
              "       width=\"24px\">\n",
              "    <path d=\"M0 0h24v24H0V0z\" fill=\"none\"/>\n",
              "    <path d=\"M18.56 5.44l.94 2.06.94-2.06 2.06-.94-2.06-.94-.94-2.06-.94 2.06-2.06.94zm-11 1L8.5 8.5l.94-2.06 2.06-.94-2.06-.94L8.5 2.5l-.94 2.06-2.06.94zm10 10l.94 2.06.94-2.06 2.06-.94-2.06-.94-.94-2.06-.94 2.06-2.06.94z\"/><path d=\"M17.41 7.96l-1.37-1.37c-.4-.4-.92-.59-1.43-.59-.52 0-1.04.2-1.43.59L10.3 9.45l-7.72 7.72c-.78.78-.78 2.05 0 2.83L4 21.41c.39.39.9.59 1.41.59.51 0 1.02-.2 1.41-.59l7.78-7.78 2.81-2.81c.8-.78.8-2.07 0-2.86zM5.41 20L4 18.59l7.72-7.72 1.47 1.35L5.41 20z\"/>\n",
              "  </svg>\n",
              "      </button>\n",
              "      \n",
              "  <style>\n",
              "    .colab-df-container {\n",
              "      display:flex;\n",
              "      flex-wrap:wrap;\n",
              "      gap: 12px;\n",
              "    }\n",
              "\n",
              "    .colab-df-convert {\n",
              "      background-color: #E8F0FE;\n",
              "      border: none;\n",
              "      border-radius: 50%;\n",
              "      cursor: pointer;\n",
              "      display: none;\n",
              "      fill: #1967D2;\n",
              "      height: 32px;\n",
              "      padding: 0 0 0 0;\n",
              "      width: 32px;\n",
              "    }\n",
              "\n",
              "    .colab-df-convert:hover {\n",
              "      background-color: #E2EBFA;\n",
              "      box-shadow: 0px 1px 2px rgba(60, 64, 67, 0.3), 0px 1px 3px 1px rgba(60, 64, 67, 0.15);\n",
              "      fill: #174EA6;\n",
              "    }\n",
              "\n",
              "    [theme=dark] .colab-df-convert {\n",
              "      background-color: #3B4455;\n",
              "      fill: #D2E3FC;\n",
              "    }\n",
              "\n",
              "    [theme=dark] .colab-df-convert:hover {\n",
              "      background-color: #434B5C;\n",
              "      box-shadow: 0px 1px 3px 1px rgba(0, 0, 0, 0.15);\n",
              "      filter: drop-shadow(0px 1px 2px rgba(0, 0, 0, 0.3));\n",
              "      fill: #FFFFFF;\n",
              "    }\n",
              "  </style>\n",
              "\n",
              "      <script>\n",
              "        const buttonEl =\n",
              "          document.querySelector('#df-d7fb6798-672e-4611-94ab-d6f58f8ac909 button.colab-df-convert');\n",
              "        buttonEl.style.display =\n",
              "          google.colab.kernel.accessAllowed ? 'block' : 'none';\n",
              "\n",
              "        async function convertToInteractive(key) {\n",
              "          const element = document.querySelector('#df-d7fb6798-672e-4611-94ab-d6f58f8ac909');\n",
              "          const dataTable =\n",
              "            await google.colab.kernel.invokeFunction('convertToInteractive',\n",
              "                                                     [key], {});\n",
              "          if (!dataTable) return;\n",
              "\n",
              "          const docLinkHtml = 'Like what you see? Visit the ' +\n",
              "            '<a target=\"_blank\" href=https://colab.research.google.com/notebooks/data_table.ipynb>data table notebook</a>'\n",
              "            + ' to learn more about interactive tables.';\n",
              "          element.innerHTML = '';\n",
              "          dataTable['output_type'] = 'display_data';\n",
              "          await google.colab.output.renderOutput(dataTable, element);\n",
              "          const docLink = document.createElement('div');\n",
              "          docLink.innerHTML = docLinkHtml;\n",
              "          element.appendChild(docLink);\n",
              "        }\n",
              "      </script>\n",
              "    </div>\n",
              "  </div>\n",
              "  "
            ]
          },
          "metadata": {},
          "execution_count": 352
        }
      ]
    },
    {
      "cell_type": "markdown",
      "source": [
        "Quais são os 5 times que contém a maior capacidade em seus estádios?"
      ],
      "metadata": {
        "id": "DLoVZ1Sa54c7"
      }
    },
    {
      "cell_type": "code",
      "source": [
        "capacitymax = df.sort_values(\"Capacity \", ascending=False)\n",
        "capacitymax.head(5)"
      ],
      "metadata": {
        "colab": {
          "base_uri": "https://localhost:8080/",
          "height": 206
        },
        "id": "Wp0l2PoR3UR3",
        "outputId": "30ee2df8-9852-47f8-c123-ad11ba5f8dce"
      },
      "execution_count": null,
      "outputs": [
        {
          "output_type": "execute_result",
          "data": {
            "text/plain": [
              "            Stadium  Capacity                    Team  Opened  League  \\\n",
              "20  MetLife Stadium     82.500        New York Giants     2010    NFL   \n",
              "21  MetLife Stadium     82.500          New York Jets     2010    NFL   \n",
              "6        FedExField     82.000  Washington Commanders     1997    NFL   \n",
              "13    Lambeau Field     81.441      Green Bay Packers     1957    NFL   \n",
              "2      AT&T Stadium     80.000         Dallas Cowboys     2009    NFL   \n",
              "\n",
              "               City        State  \n",
              "20  East Rutherford   New Jersey  \n",
              "21  East Rutherford   New Jersey  \n",
              "6        Washington         D.C.  \n",
              "13        Green Bay    Wisconsin  \n",
              "2            Dallas        Texas  "
            ],
            "text/html": [
              "\n",
              "  <div id=\"df-7690c4fc-f76c-4363-b5ad-afaf7d645e80\">\n",
              "    <div class=\"colab-df-container\">\n",
              "      <div>\n",
              "<style scoped>\n",
              "    .dataframe tbody tr th:only-of-type {\n",
              "        vertical-align: middle;\n",
              "    }\n",
              "\n",
              "    .dataframe tbody tr th {\n",
              "        vertical-align: top;\n",
              "    }\n",
              "\n",
              "    .dataframe thead th {\n",
              "        text-align: right;\n",
              "    }\n",
              "</style>\n",
              "<table border=\"1\" class=\"dataframe\">\n",
              "  <thead>\n",
              "    <tr style=\"text-align: right;\">\n",
              "      <th></th>\n",
              "      <th>Stadium</th>\n",
              "      <th>Capacity</th>\n",
              "      <th>Team</th>\n",
              "      <th>Opened</th>\n",
              "      <th>League</th>\n",
              "      <th>City</th>\n",
              "      <th>State</th>\n",
              "    </tr>\n",
              "  </thead>\n",
              "  <tbody>\n",
              "    <tr>\n",
              "      <th>20</th>\n",
              "      <td>MetLife Stadium</td>\n",
              "      <td>82.500</td>\n",
              "      <td>New York Giants</td>\n",
              "      <td>2010</td>\n",
              "      <td>NFL</td>\n",
              "      <td>East Rutherford</td>\n",
              "      <td>New Jersey</td>\n",
              "    </tr>\n",
              "    <tr>\n",
              "      <th>21</th>\n",
              "      <td>MetLife Stadium</td>\n",
              "      <td>82.500</td>\n",
              "      <td>New York Jets</td>\n",
              "      <td>2010</td>\n",
              "      <td>NFL</td>\n",
              "      <td>East Rutherford</td>\n",
              "      <td>New Jersey</td>\n",
              "    </tr>\n",
              "    <tr>\n",
              "      <th>6</th>\n",
              "      <td>FedExField</td>\n",
              "      <td>82.000</td>\n",
              "      <td>Washington Commanders</td>\n",
              "      <td>1997</td>\n",
              "      <td>NFL</td>\n",
              "      <td>Washington</td>\n",
              "      <td>D.C.</td>\n",
              "    </tr>\n",
              "    <tr>\n",
              "      <th>13</th>\n",
              "      <td>Lambeau Field</td>\n",
              "      <td>81.441</td>\n",
              "      <td>Green Bay Packers</td>\n",
              "      <td>1957</td>\n",
              "      <td>NFL</td>\n",
              "      <td>Green Bay</td>\n",
              "      <td>Wisconsin</td>\n",
              "    </tr>\n",
              "    <tr>\n",
              "      <th>2</th>\n",
              "      <td>AT&amp;T Stadium</td>\n",
              "      <td>80.000</td>\n",
              "      <td>Dallas Cowboys</td>\n",
              "      <td>2009</td>\n",
              "      <td>NFL</td>\n",
              "      <td>Dallas</td>\n",
              "      <td>Texas</td>\n",
              "    </tr>\n",
              "  </tbody>\n",
              "</table>\n",
              "</div>\n",
              "      <button class=\"colab-df-convert\" onclick=\"convertToInteractive('df-7690c4fc-f76c-4363-b5ad-afaf7d645e80')\"\n",
              "              title=\"Convert this dataframe to an interactive table.\"\n",
              "              style=\"display:none;\">\n",
              "        \n",
              "  <svg xmlns=\"http://www.w3.org/2000/svg\" height=\"24px\"viewBox=\"0 0 24 24\"\n",
              "       width=\"24px\">\n",
              "    <path d=\"M0 0h24v24H0V0z\" fill=\"none\"/>\n",
              "    <path d=\"M18.56 5.44l.94 2.06.94-2.06 2.06-.94-2.06-.94-.94-2.06-.94 2.06-2.06.94zm-11 1L8.5 8.5l.94-2.06 2.06-.94-2.06-.94L8.5 2.5l-.94 2.06-2.06.94zm10 10l.94 2.06.94-2.06 2.06-.94-2.06-.94-.94-2.06-.94 2.06-2.06.94z\"/><path d=\"M17.41 7.96l-1.37-1.37c-.4-.4-.92-.59-1.43-.59-.52 0-1.04.2-1.43.59L10.3 9.45l-7.72 7.72c-.78.78-.78 2.05 0 2.83L4 21.41c.39.39.9.59 1.41.59.51 0 1.02-.2 1.41-.59l7.78-7.78 2.81-2.81c.8-.78.8-2.07 0-2.86zM5.41 20L4 18.59l7.72-7.72 1.47 1.35L5.41 20z\"/>\n",
              "  </svg>\n",
              "      </button>\n",
              "      \n",
              "  <style>\n",
              "    .colab-df-container {\n",
              "      display:flex;\n",
              "      flex-wrap:wrap;\n",
              "      gap: 12px;\n",
              "    }\n",
              "\n",
              "    .colab-df-convert {\n",
              "      background-color: #E8F0FE;\n",
              "      border: none;\n",
              "      border-radius: 50%;\n",
              "      cursor: pointer;\n",
              "      display: none;\n",
              "      fill: #1967D2;\n",
              "      height: 32px;\n",
              "      padding: 0 0 0 0;\n",
              "      width: 32px;\n",
              "    }\n",
              "\n",
              "    .colab-df-convert:hover {\n",
              "      background-color: #E2EBFA;\n",
              "      box-shadow: 0px 1px 2px rgba(60, 64, 67, 0.3), 0px 1px 3px 1px rgba(60, 64, 67, 0.15);\n",
              "      fill: #174EA6;\n",
              "    }\n",
              "\n",
              "    [theme=dark] .colab-df-convert {\n",
              "      background-color: #3B4455;\n",
              "      fill: #D2E3FC;\n",
              "    }\n",
              "\n",
              "    [theme=dark] .colab-df-convert:hover {\n",
              "      background-color: #434B5C;\n",
              "      box-shadow: 0px 1px 3px 1px rgba(0, 0, 0, 0.15);\n",
              "      filter: drop-shadow(0px 1px 2px rgba(0, 0, 0, 0.3));\n",
              "      fill: #FFFFFF;\n",
              "    }\n",
              "  </style>\n",
              "\n",
              "      <script>\n",
              "        const buttonEl =\n",
              "          document.querySelector('#df-7690c4fc-f76c-4363-b5ad-afaf7d645e80 button.colab-df-convert');\n",
              "        buttonEl.style.display =\n",
              "          google.colab.kernel.accessAllowed ? 'block' : 'none';\n",
              "\n",
              "        async function convertToInteractive(key) {\n",
              "          const element = document.querySelector('#df-7690c4fc-f76c-4363-b5ad-afaf7d645e80');\n",
              "          const dataTable =\n",
              "            await google.colab.kernel.invokeFunction('convertToInteractive',\n",
              "                                                     [key], {});\n",
              "          if (!dataTable) return;\n",
              "\n",
              "          const docLinkHtml = 'Like what you see? Visit the ' +\n",
              "            '<a target=\"_blank\" href=https://colab.research.google.com/notebooks/data_table.ipynb>data table notebook</a>'\n",
              "            + ' to learn more about interactive tables.';\n",
              "          element.innerHTML = '';\n",
              "          dataTable['output_type'] = 'display_data';\n",
              "          await google.colab.output.renderOutput(dataTable, element);\n",
              "          const docLink = document.createElement('div');\n",
              "          docLink.innerHTML = docLinkHtml;\n",
              "          element.appendChild(docLink);\n",
              "        }\n",
              "      </script>\n",
              "    </div>\n",
              "  </div>\n",
              "  "
            ]
          },
          "metadata": {},
          "execution_count": 353
        }
      ]
    },
    {
      "cell_type": "markdown",
      "source": [
        "Qual é o time que contém maior capacidade de cada liga?"
      ],
      "metadata": {
        "id": "bbDvLMeE6L8B"
      }
    },
    {
      "cell_type": "code",
      "source": [
        "leaguemax = df.groupby(\"League\").max().sort_values(\"Capacity \", ascending=False)\n",
        "print(leaguemax)"
      ],
      "metadata": {
        "colab": {
          "base_uri": "https://localhost:8080/"
        },
        "id": "eG_UR1by4vY2",
        "outputId": "8c468a34-31e3-477e-efac-8dd6b59afd35"
      },
      "execution_count": null,
      "outputs": [
        {
          "output_type": "stream",
          "name": "stdout",
          "text": [
            "                   Stadium  Capacity                    Team  Opened   \\\n",
            "League                                                                  \n",
            "NFL      U.S. Bank Stadium     82.500  Washington Commanders     2020   \n",
            "MLB         loanDepot park     56.000   Washington Nationals     2020   \n",
            "MLS         Yankee Stadium     38.000   Sporting Kansas City     2021   \n",
            "NHL     Xcel Energy Center     21.105          Winnipeg Jets     2021   \n",
            "NBA     Wells Fargo Center     20.917     Washington Wizards     2019   \n",
            "\n",
            "              City        State  \n",
            "League                           \n",
            "NFL     Washington    Wisconsin  \n",
            "MLB     Washington    Wisconsin  \n",
            "MLS     Washington         Utah  \n",
            "NHL       Winnipeg   Washington  \n",
            "NBA     Washington    Wisconsin  \n"
          ]
        }
      ]
    },
    {
      "cell_type": "markdown",
      "source": [
        "Quais são as 5 cidades que contém maior capacidade em seus estádios?\n",
        "\n"
      ],
      "metadata": {
        "id": "RV6Ro3so6740"
      }
    },
    {
      "cell_type": "code",
      "source": [
        "citymax = df.groupby(\"City\").sum().sort_values(\"Capacity \", ascending=False)\n",
        "citymax.head(5)"
      ],
      "metadata": {
        "colab": {
          "base_uri": "https://localhost:8080/",
          "height": 238
        },
        "id": "QYTPd-MW5ReZ",
        "outputId": "ff5173d8-625c-4b3d-f477-6f32c0f8f353"
      },
      "execution_count": null,
      "outputs": [
        {
          "output_type": "execute_result",
          "data": {
            "text/plain": [
              "             Capacity   Opened \n",
              "City                           \n",
              "Los Angeles    341.986    17961\n",
              "Chicago        184.398     9817\n",
              "Washington     182.201    10017\n",
              "Denver         181.659    10001\n",
              "Dallas         178.532    10036"
            ],
            "text/html": [
              "\n",
              "  <div id=\"df-d2c34443-a691-4f9b-859a-cf138f5efc37\">\n",
              "    <div class=\"colab-df-container\">\n",
              "      <div>\n",
              "<style scoped>\n",
              "    .dataframe tbody tr th:only-of-type {\n",
              "        vertical-align: middle;\n",
              "    }\n",
              "\n",
              "    .dataframe tbody tr th {\n",
              "        vertical-align: top;\n",
              "    }\n",
              "\n",
              "    .dataframe thead th {\n",
              "        text-align: right;\n",
              "    }\n",
              "</style>\n",
              "<table border=\"1\" class=\"dataframe\">\n",
              "  <thead>\n",
              "    <tr style=\"text-align: right;\">\n",
              "      <th></th>\n",
              "      <th>Capacity</th>\n",
              "      <th>Opened</th>\n",
              "    </tr>\n",
              "    <tr>\n",
              "      <th>City</th>\n",
              "      <th></th>\n",
              "      <th></th>\n",
              "    </tr>\n",
              "  </thead>\n",
              "  <tbody>\n",
              "    <tr>\n",
              "      <th>Los Angeles</th>\n",
              "      <td>341.986</td>\n",
              "      <td>17961</td>\n",
              "    </tr>\n",
              "    <tr>\n",
              "      <th>Chicago</th>\n",
              "      <td>184.398</td>\n",
              "      <td>9817</td>\n",
              "    </tr>\n",
              "    <tr>\n",
              "      <th>Washington</th>\n",
              "      <td>182.201</td>\n",
              "      <td>10017</td>\n",
              "    </tr>\n",
              "    <tr>\n",
              "      <th>Denver</th>\n",
              "      <td>181.659</td>\n",
              "      <td>10001</td>\n",
              "    </tr>\n",
              "    <tr>\n",
              "      <th>Dallas</th>\n",
              "      <td>178.532</td>\n",
              "      <td>10036</td>\n",
              "    </tr>\n",
              "  </tbody>\n",
              "</table>\n",
              "</div>\n",
              "      <button class=\"colab-df-convert\" onclick=\"convertToInteractive('df-d2c34443-a691-4f9b-859a-cf138f5efc37')\"\n",
              "              title=\"Convert this dataframe to an interactive table.\"\n",
              "              style=\"display:none;\">\n",
              "        \n",
              "  <svg xmlns=\"http://www.w3.org/2000/svg\" height=\"24px\"viewBox=\"0 0 24 24\"\n",
              "       width=\"24px\">\n",
              "    <path d=\"M0 0h24v24H0V0z\" fill=\"none\"/>\n",
              "    <path d=\"M18.56 5.44l.94 2.06.94-2.06 2.06-.94-2.06-.94-.94-2.06-.94 2.06-2.06.94zm-11 1L8.5 8.5l.94-2.06 2.06-.94-2.06-.94L8.5 2.5l-.94 2.06-2.06.94zm10 10l.94 2.06.94-2.06 2.06-.94-2.06-.94-.94-2.06-.94 2.06-2.06.94z\"/><path d=\"M17.41 7.96l-1.37-1.37c-.4-.4-.92-.59-1.43-.59-.52 0-1.04.2-1.43.59L10.3 9.45l-7.72 7.72c-.78.78-.78 2.05 0 2.83L4 21.41c.39.39.9.59 1.41.59.51 0 1.02-.2 1.41-.59l7.78-7.78 2.81-2.81c.8-.78.8-2.07 0-2.86zM5.41 20L4 18.59l7.72-7.72 1.47 1.35L5.41 20z\"/>\n",
              "  </svg>\n",
              "      </button>\n",
              "      \n",
              "  <style>\n",
              "    .colab-df-container {\n",
              "      display:flex;\n",
              "      flex-wrap:wrap;\n",
              "      gap: 12px;\n",
              "    }\n",
              "\n",
              "    .colab-df-convert {\n",
              "      background-color: #E8F0FE;\n",
              "      border: none;\n",
              "      border-radius: 50%;\n",
              "      cursor: pointer;\n",
              "      display: none;\n",
              "      fill: #1967D2;\n",
              "      height: 32px;\n",
              "      padding: 0 0 0 0;\n",
              "      width: 32px;\n",
              "    }\n",
              "\n",
              "    .colab-df-convert:hover {\n",
              "      background-color: #E2EBFA;\n",
              "      box-shadow: 0px 1px 2px rgba(60, 64, 67, 0.3), 0px 1px 3px 1px rgba(60, 64, 67, 0.15);\n",
              "      fill: #174EA6;\n",
              "    }\n",
              "\n",
              "    [theme=dark] .colab-df-convert {\n",
              "      background-color: #3B4455;\n",
              "      fill: #D2E3FC;\n",
              "    }\n",
              "\n",
              "    [theme=dark] .colab-df-convert:hover {\n",
              "      background-color: #434B5C;\n",
              "      box-shadow: 0px 1px 3px 1px rgba(0, 0, 0, 0.15);\n",
              "      filter: drop-shadow(0px 1px 2px rgba(0, 0, 0, 0.3));\n",
              "      fill: #FFFFFF;\n",
              "    }\n",
              "  </style>\n",
              "\n",
              "      <script>\n",
              "        const buttonEl =\n",
              "          document.querySelector('#df-d2c34443-a691-4f9b-859a-cf138f5efc37 button.colab-df-convert');\n",
              "        buttonEl.style.display =\n",
              "          google.colab.kernel.accessAllowed ? 'block' : 'none';\n",
              "\n",
              "        async function convertToInteractive(key) {\n",
              "          const element = document.querySelector('#df-d2c34443-a691-4f9b-859a-cf138f5efc37');\n",
              "          const dataTable =\n",
              "            await google.colab.kernel.invokeFunction('convertToInteractive',\n",
              "                                                     [key], {});\n",
              "          if (!dataTable) return;\n",
              "\n",
              "          const docLinkHtml = 'Like what you see? Visit the ' +\n",
              "            '<a target=\"_blank\" href=https://colab.research.google.com/notebooks/data_table.ipynb>data table notebook</a>'\n",
              "            + ' to learn more about interactive tables.';\n",
              "          element.innerHTML = '';\n",
              "          dataTable['output_type'] = 'display_data';\n",
              "          await google.colab.output.renderOutput(dataTable, element);\n",
              "          const docLink = document.createElement('div');\n",
              "          docLink.innerHTML = docLinkHtml;\n",
              "          element.appendChild(docLink);\n",
              "        }\n",
              "      </script>\n",
              "    </div>\n",
              "  </div>\n",
              "  "
            ]
          },
          "metadata": {},
          "execution_count": 355
        }
      ]
    },
    {
      "cell_type": "markdown",
      "source": [
        "Quais são as 5 estados que contém maior capacidade em seus estádios?"
      ],
      "metadata": {
        "id": "5T35MmhmBpa1"
      }
    },
    {
      "cell_type": "code",
      "source": [
        "statemax = df.groupby(\"State\").sum().sort_values(\"Capacity \", ascending=False)\n",
        "statemax.head(5)"
      ],
      "metadata": {
        "colab": {
          "base_uri": "https://localhost:8080/",
          "height": 238
        },
        "id": "HOdWkLReBfnN",
        "outputId": "e190bbc3-5c36-4750-84dc-7c0b88b4dcf9"
      },
      "execution_count": null,
      "outputs": [
        {
          "output_type": "execute_result",
          "data": {
            "text/plain": [
              "               Capacity   Opened \n",
              "State                            \n",
              " California      610.016    33988\n",
              " Florida         382.378    22022\n",
              " Texas           349.131    20064\n",
              " Pennsylvania    296.443    16021\n",
              " Ohio            294.506    16032"
            ],
            "text/html": [
              "\n",
              "  <div id=\"df-72006804-9fdf-416c-a4a8-b45d401fd6e7\">\n",
              "    <div class=\"colab-df-container\">\n",
              "      <div>\n",
              "<style scoped>\n",
              "    .dataframe tbody tr th:only-of-type {\n",
              "        vertical-align: middle;\n",
              "    }\n",
              "\n",
              "    .dataframe tbody tr th {\n",
              "        vertical-align: top;\n",
              "    }\n",
              "\n",
              "    .dataframe thead th {\n",
              "        text-align: right;\n",
              "    }\n",
              "</style>\n",
              "<table border=\"1\" class=\"dataframe\">\n",
              "  <thead>\n",
              "    <tr style=\"text-align: right;\">\n",
              "      <th></th>\n",
              "      <th>Capacity</th>\n",
              "      <th>Opened</th>\n",
              "    </tr>\n",
              "    <tr>\n",
              "      <th>State</th>\n",
              "      <th></th>\n",
              "      <th></th>\n",
              "    </tr>\n",
              "  </thead>\n",
              "  <tbody>\n",
              "    <tr>\n",
              "      <th>California</th>\n",
              "      <td>610.016</td>\n",
              "      <td>33988</td>\n",
              "    </tr>\n",
              "    <tr>\n",
              "      <th>Florida</th>\n",
              "      <td>382.378</td>\n",
              "      <td>22022</td>\n",
              "    </tr>\n",
              "    <tr>\n",
              "      <th>Texas</th>\n",
              "      <td>349.131</td>\n",
              "      <td>20064</td>\n",
              "    </tr>\n",
              "    <tr>\n",
              "      <th>Pennsylvania</th>\n",
              "      <td>296.443</td>\n",
              "      <td>16021</td>\n",
              "    </tr>\n",
              "    <tr>\n",
              "      <th>Ohio</th>\n",
              "      <td>294.506</td>\n",
              "      <td>16032</td>\n",
              "    </tr>\n",
              "  </tbody>\n",
              "</table>\n",
              "</div>\n",
              "      <button class=\"colab-df-convert\" onclick=\"convertToInteractive('df-72006804-9fdf-416c-a4a8-b45d401fd6e7')\"\n",
              "              title=\"Convert this dataframe to an interactive table.\"\n",
              "              style=\"display:none;\">\n",
              "        \n",
              "  <svg xmlns=\"http://www.w3.org/2000/svg\" height=\"24px\"viewBox=\"0 0 24 24\"\n",
              "       width=\"24px\">\n",
              "    <path d=\"M0 0h24v24H0V0z\" fill=\"none\"/>\n",
              "    <path d=\"M18.56 5.44l.94 2.06.94-2.06 2.06-.94-2.06-.94-.94-2.06-.94 2.06-2.06.94zm-11 1L8.5 8.5l.94-2.06 2.06-.94-2.06-.94L8.5 2.5l-.94 2.06-2.06.94zm10 10l.94 2.06.94-2.06 2.06-.94-2.06-.94-.94-2.06-.94 2.06-2.06.94z\"/><path d=\"M17.41 7.96l-1.37-1.37c-.4-.4-.92-.59-1.43-.59-.52 0-1.04.2-1.43.59L10.3 9.45l-7.72 7.72c-.78.78-.78 2.05 0 2.83L4 21.41c.39.39.9.59 1.41.59.51 0 1.02-.2 1.41-.59l7.78-7.78 2.81-2.81c.8-.78.8-2.07 0-2.86zM5.41 20L4 18.59l7.72-7.72 1.47 1.35L5.41 20z\"/>\n",
              "  </svg>\n",
              "      </button>\n",
              "      \n",
              "  <style>\n",
              "    .colab-df-container {\n",
              "      display:flex;\n",
              "      flex-wrap:wrap;\n",
              "      gap: 12px;\n",
              "    }\n",
              "\n",
              "    .colab-df-convert {\n",
              "      background-color: #E8F0FE;\n",
              "      border: none;\n",
              "      border-radius: 50%;\n",
              "      cursor: pointer;\n",
              "      display: none;\n",
              "      fill: #1967D2;\n",
              "      height: 32px;\n",
              "      padding: 0 0 0 0;\n",
              "      width: 32px;\n",
              "    }\n",
              "\n",
              "    .colab-df-convert:hover {\n",
              "      background-color: #E2EBFA;\n",
              "      box-shadow: 0px 1px 2px rgba(60, 64, 67, 0.3), 0px 1px 3px 1px rgba(60, 64, 67, 0.15);\n",
              "      fill: #174EA6;\n",
              "    }\n",
              "\n",
              "    [theme=dark] .colab-df-convert {\n",
              "      background-color: #3B4455;\n",
              "      fill: #D2E3FC;\n",
              "    }\n",
              "\n",
              "    [theme=dark] .colab-df-convert:hover {\n",
              "      background-color: #434B5C;\n",
              "      box-shadow: 0px 1px 3px 1px rgba(0, 0, 0, 0.15);\n",
              "      filter: drop-shadow(0px 1px 2px rgba(0, 0, 0, 0.3));\n",
              "      fill: #FFFFFF;\n",
              "    }\n",
              "  </style>\n",
              "\n",
              "      <script>\n",
              "        const buttonEl =\n",
              "          document.querySelector('#df-72006804-9fdf-416c-a4a8-b45d401fd6e7 button.colab-df-convert');\n",
              "        buttonEl.style.display =\n",
              "          google.colab.kernel.accessAllowed ? 'block' : 'none';\n",
              "\n",
              "        async function convertToInteractive(key) {\n",
              "          const element = document.querySelector('#df-72006804-9fdf-416c-a4a8-b45d401fd6e7');\n",
              "          const dataTable =\n",
              "            await google.colab.kernel.invokeFunction('convertToInteractive',\n",
              "                                                     [key], {});\n",
              "          if (!dataTable) return;\n",
              "\n",
              "          const docLinkHtml = 'Like what you see? Visit the ' +\n",
              "            '<a target=\"_blank\" href=https://colab.research.google.com/notebooks/data_table.ipynb>data table notebook</a>'\n",
              "            + ' to learn more about interactive tables.';\n",
              "          element.innerHTML = '';\n",
              "          dataTable['output_type'] = 'display_data';\n",
              "          await google.colab.output.renderOutput(dataTable, element);\n",
              "          const docLink = document.createElement('div');\n",
              "          docLink.innerHTML = docLinkHtml;\n",
              "          element.appendChild(docLink);\n",
              "        }\n",
              "      </script>\n",
              "    </div>\n",
              "  </div>\n",
              "  "
            ]
          },
          "metadata": {},
          "execution_count": 356
        }
      ]
    },
    {
      "cell_type": "markdown",
      "source": [
        "Quais são os 5 times mais antigos das ligas?"
      ],
      "metadata": {
        "id": "l2ql9D0DChWa"
      }
    },
    {
      "cell_type": "code",
      "source": [
        "openedteam = df.groupby(\"Team\").min().sort_values(\"Opened \", ascending=True)\n",
        "print(openedteam)"
      ],
      "metadata": {
        "colab": {
          "base_uri": "https://localhost:8080/"
        },
        "id": "DXczRe90CM8y",
        "outputId": "41c61e80-11bc-4207-cae9-48be88ff4494"
      },
      "execution_count": null,
      "outputs": [
        {
          "output_type": "stream",
          "name": "stdout",
          "text": [
            "                              Stadium  Capacity   Opened  League  \\\n",
            "Team                                                               \n",
            "Boston Red Sox            Fenway Park     37.755     1912    MLB   \n",
            "Chicago Cubs            Wrigley Field     41.649     1914    MLB   \n",
            "Chicago Bears           Soldier Field     61.500     1924    NFL   \n",
            "Portland Timbers      Providence Park     25.218     1926    MLS   \n",
            "Green Bay Packers       Lambeau Field     81.441     1957    NFL   \n",
            "...                               ...        ...      ...    ...   \n",
            "Los Angeles Chargers     SoFi Stadium     70.000     2020    NFL   \n",
            "New York Islanders          UBS Arena     17.113     2021    NHL   \n",
            "Columbus Crew         Lower.com Field     20.371     2021    MLS   \n",
            "Austin FC                  Q2 Stadium     20.738     2021    MLS   \n",
            "FC Cincinnati             TQL Stadium     26.000     2021    MLS   \n",
            "\n",
            "                               City           State  \n",
            "Team                                                 \n",
            "Boston Red Sox               Boston   Massachusetts  \n",
            "Chicago Cubs                Chicago        Illinois  \n",
            "Chicago Bears               Chicago        Illinois  \n",
            "Portland Timbers           Portland          Oregon  \n",
            "Green Bay Packers         Green Bay       Wisconsin  \n",
            "...                             ...             ...  \n",
            "Los Angeles Chargers    Los Angeles      California  \n",
            "New York Islanders    New York City        New York  \n",
            "Columbus Crew              Columbus            Ohio  \n",
            "Austin FC                    Austin           Texas  \n",
            "FC Cincinnati            Cincinnati            Ohio  \n",
            "\n",
            "[143 rows x 6 columns]\n"
          ]
        }
      ]
    },
    {
      "cell_type": "markdown",
      "source": [
        "Quais as cidades que contém maior quantidade de times?"
      ],
      "metadata": {
        "id": "6RyayKtkDzFo"
      }
    },
    {
      "cell_type": "code",
      "source": [
        "citycount = df['City'].value_counts(ascending=False)\n",
        "citycount.head(5)"
      ],
      "metadata": {
        "colab": {
          "base_uri": "https://localhost:8080/"
        },
        "id": "gO00xWJKDv56",
        "outputId": "e8fe6eb1-d81e-47b3-8372-834484356a74"
      },
      "execution_count": null,
      "outputs": [
        {
          "output_type": "execute_result",
          "data": {
            "text/plain": [
              "Los Angeles      9\n",
              "Dallas           5\n",
              "Philadelphia     5\n",
              "Denver           5\n",
              "New York City    5\n",
              "Name: City, dtype: int64"
            ]
          },
          "metadata": {},
          "execution_count": 358
        }
      ]
    },
    {
      "cell_type": "markdown",
      "source": [
        "Quais os estados que contém maior quantidade de times?"
      ],
      "metadata": {
        "id": "PUumMHyTFpOC"
      }
    },
    {
      "cell_type": "code",
      "source": [
        "statecount = df['State'].value_counts(ascending=False)\n",
        "statecount.head(5)"
      ],
      "metadata": {
        "colab": {
          "base_uri": "https://localhost:8080/"
        },
        "id": "l6mbREw1Fju6",
        "outputId": "541affd8-454e-4957-f574-4f176089c9d9"
      },
      "execution_count": null,
      "outputs": [
        {
          "output_type": "execute_result",
          "data": {
            "text/plain": [
              " California      17\n",
              " Florida         11\n",
              " Texas           10\n",
              " New York         9\n",
              " Pennsylvania     8\n",
              "Name: State, dtype: int64"
            ]
          },
          "metadata": {},
          "execution_count": 359
        }
      ]
    },
    {
      "cell_type": "code",
      "source": [
        "citycount.plot.pie()"
      ],
      "metadata": {
        "colab": {
          "base_uri": "https://localhost:8080/",
          "height": 265
        },
        "id": "msxZPaWuW6_T",
        "outputId": "54526b7a-95f1-47eb-f6a0-ed6c7181b851"
      },
      "execution_count": null,
      "outputs": [
        {
          "output_type": "execute_result",
          "data": {
            "text/plain": [
              "<matplotlib.axes._subplots.AxesSubplot at 0x7f6a45173150>"
            ]
          },
          "metadata": {},
          "execution_count": 360
        },
        {
          "output_type": "display_data",
          "data": {
            "text/plain": [
              "<Figure size 432x288 with 1 Axes>"
            ],
            "image/png": "[encoded data removed]"
          },
          "metadata": {}
        }
      ]
    },
    {
      "cell_type": "code",
      "source": [
        "statecount.plot.pie()"
      ],
      "metadata": {
        "colab": {
          "base_uri": "https://localhost:8080/",
          "height": 265
        },
        "id": "8kE6-g7FXVa0",
        "outputId": "955a6285-3e0a-4f40-a154-9ede130b66c4"
      },
      "execution_count": null,
      "outputs": [
        {
          "output_type": "execute_result",
          "data": {
            "text/plain": [
              "<matplotlib.axes._subplots.AxesSubplot at 0x7f6a44fffd50>"
            ]
          },
          "metadata": {},
          "execution_count": 361
        },
        {
          "output_type": "display_data",
          "data": {
            "text/plain": [
              "<Figure size 432x288 with 1 Axes>"
            ],
            "image/png": "[encoded data removed]"
          },
          "metadata": {}
        }
      ]
    },
    {
      "cell_type": "code",
      "source": [
        "df[\"Capacity \"].describe()"
      ],
      "metadata": {
        "colab": {
          "base_uri": "https://localhost:8080/"
        },
        "id": "r_vXvK-WY68I",
        "outputId": "94d7828b-0b33-420a-ced4-056e00b39ef7"
      },
      "execution_count": null,
      "outputs": [
        {
          "output_type": "execute_result",
          "data": {
            "text/plain": [
              "count    143.000000\n",
              "mean      35.791811\n",
              "std       21.397871\n",
              "min       15.321000\n",
              "25%       18.503000\n",
              "50%       20.738000\n",
              "75%       48.167000\n",
              "max       82.500000\n",
              "Name: Capacity , dtype: float64"
            ]
          },
          "metadata": {},
          "execution_count": 362
        }
      ]
    },
    {
      "cell_type": "markdown",
      "source": [
        "Qual a liga que contém maior capacidade em seus estádios?"
      ],
      "metadata": {
        "id": "FK6jgA3yhGn_"
      }
    },
    {
      "cell_type": "code",
      "source": [
        "leaguesum = df.groupby(\"League\")['Capacity '].sum()\n",
        "leaguesum.plot.barh()"
      ],
      "metadata": {
        "colab": {
          "base_uri": "https://localhost:8080/",
          "height": 282
        },
        "id": "KK22PV0-a1u1",
        "outputId": "6176dca2-bef0-48c2-e991-ae64a634886e"
      },
      "execution_count": null,
      "outputs": [
        {
          "output_type": "execute_result",
          "data": {
            "text/plain": [
              "<matplotlib.axes._subplots.AxesSubplot at 0x7f6a44f33390>"
            ]
          },
          "metadata": {},
          "execution_count": 363
        },
        {
          "output_type": "display_data",
          "data": {
            "text/plain": [
              "<Figure size 432x288 with 1 Axes>"
            ],
            "image/png": "[encoded data removed]"
          },
          "metadata": {
            "needs_background": "light"
          }
        }
      ]
    }
  ]
}